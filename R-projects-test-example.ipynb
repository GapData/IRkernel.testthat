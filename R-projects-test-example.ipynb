{
 "cells": [
  {
   "cell_type": "code",
   "execution_count": 93,
   "metadata": {},
   "outputs": [],
   "source": [
    "library(testthat)\n",
    "\n",
    "comm <- IRkernel::comm_manager()$new_comm('dc_project')\n",
    "comm$open()\n",
    "comm$send(list(a = 'hey'))\n",
    "\n",
    "ProjectReporter <- R6::R6Class(\"ProjectReporter\", inherit = testthat::ListReporter,\n",
    "  public = list(\n",
    "    all_tests = NULL,\n",
    "    comm = NULL,\n",
    "    initialize = function(..., comm) {\n",
    "      super$initialize(...)\n",
    "      self$comm <- comm\n",
    "      self$all_tests = testthat:::Stack$new()\n",
    "    },\n",
    "    end_test = function(context, test) {\n",
    "      out_env <- super$end_test(context, test)\n",
    "      jsonable <- lapply(out_env$as_list(), `[`, c('message', 'test'))\n",
    "      self$comm$send(jsonable)\n",
    "      out_env\n",
    "      #assign('output', out, envir=globalenv())\n",
    "      \n",
    "    }\n",
    "  ),\n",
    "  private = list(\n",
    "  )\n",
    ")"
   ]
  },
  {
   "cell_type": "code",
   "execution_count": 94,
   "metadata": {},
   "outputs": [],
   "source": [
    "reporter <- ProjectReporter$new(comm = comm)\n",
    "env = test_env()\n",
    "reporter$start_file('some name')\n",
    "with_reporter(reporter = reporter, start_end_reporter = TRUE,\n",
    "    eval(\n",
    "        {\n",
    "            test_that(\"a passing test\", {\n",
    "                expect_equal(2, 2)\n",
    "                expect_equal(3, 3)\n",
    "            })\n",
    "        \n",
    "            test_that(\"a failing test\", {\n",
    "                expect_equal(2, 3)\n",
    "                expect_equal(3, 4)\n",
    "            })\n",
    "        },\n",
    "        envir = env\n",
    "    )\n",
    ")\n"
   ]
  }
 ],
 "metadata": {
  "kernelspec": {
   "display_name": "R",
   "language": "R",
   "name": "ir"
  },
  "language_info": {
   "codemirror_mode": "r",
   "file_extension": ".r",
   "mimetype": "text/x-r-source",
   "name": "R",
   "pygments_lexer": "r",
   "version": "3.3.1"
  }
 },
 "nbformat": 4,
 "nbformat_minor": 2
}
