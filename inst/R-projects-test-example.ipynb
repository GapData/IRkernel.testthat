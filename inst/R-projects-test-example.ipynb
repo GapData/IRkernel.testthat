{
 "cells": [
  {
   "cell_type": "markdown",
   "metadata": {},
   "source": [
    "Checking Projects with testthat\n",
    "-----------------------------\n",
    "\n",
    "In this notebook, a testthat reporter sends test output to the jupyter client.\n",
    "To see this in action, paste this javascript into your console:\n",
    "\n",
    "```\n",
    "Jupyter.notebook.kernel.comm_manager.register_target('dc_project',\n",
    "    function(comm, msg) {\n",
    "        // comm is the frontend comm instance\n",
    "        // msg is the comm_open message, which can carry data\n",
    "\n",
    "        // Register handlers for later messages:\n",
    "        comm.on_msg(function(msg) { console.log('msg:', msg)} );\n",
    "        comm.on_close(function(msg) { console.log('close msg:', msg)});\n",
    "        //comm.send({'foo': 0});\n",
    "    })\n",
    "```"
   ]
  },
  {
   "cell_type": "code",
   "execution_count": null,
   "metadata": {},
   "outputs": [],
   "source": [
    "# TODO: load testthat funcs into an envir, or make parent?\n",
    "library(testthat)\n",
    "IRkernel.testthat::run_tests({\n",
    "    test_that(\"a passing test\", {\n",
    "        expect_equal(2, 2)\n",
    "        expect_equal(3, 3)\n",
    "    })\n",
    "\n",
    "    test_that(\"a failing test\", {\n",
    "        expect_equal(2, 3)\n",
    "        expect_equal(3, 4)\n",
    "    })\n",
    "    \n",
    "    test_that(\"an erroring test\", {\n",
    "        stopifnot(FALSE)\n",
    "        expect_equat(2, 2)\n",
    "    })\n",
    "})"
   ]
  }
 ],
 "metadata": {
  "kernelspec": {
   "display_name": "R",
   "language": "R",
   "name": "ir"
  },
  "language_info": {
   "codemirror_mode": "r",
   "file_extension": ".r",
   "mimetype": "text/x-r-source",
   "name": "R",
   "pygments_lexer": "r",
   "version": "3.3.1"
  }
 },
 "nbformat": 4,
 "nbformat_minor": 2
}
