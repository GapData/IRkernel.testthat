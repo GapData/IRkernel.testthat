{
 "cells": [
  {
   "cell_type": "markdown",
   "metadata": {},
   "source": [
    "Checking Projects with testthat\n",
    "-----------------------------\n",
    "\n",
    "In this notebook, a testthat reporter sends test output to the jupyter client.\n",
    "To see this in action, paste this javascript into your console:\n",
    "\n",
    "```\n",
    "Jupyter.notebook.kernel.comm_manager.register_target('dc_project',\n",
    "    function(comm, msg) {\n",
    "        // comm is the frontend comm instance\n",
    "        // msg is the comm_open message, which can carry data\n",
    "\n",
    "        // Register handlers for later messages:\n",
    "        comm.on_msg(function(msg) { console.log('msg:', msg)} );\n",
    "        comm.on_close(function(msg) { console.log('close msg:', msg)});\n",
    "        //comm.send({'foo': 0});\n",
    "    })\n",
    "```"
   ]
  },
  {
   "cell_type": "code",
   "execution_count": 93,
   "metadata": {},
   "outputs": [],
   "source": [
    "library(testthat)\n",
    "\n",
    "comm <- IRkernel::comm_manager()$new_comm('dc_project')\n",
    "comm$open()\n",
    "comm$send(list(a = 'hey'))\n",
    "\n",
    "ProjectReporter <- R6::R6Class(\"ProjectReporter\", inherit = testthat::ListReporter,\n",
    "  public = list(\n",
    "    all_tests = NULL,\n",
    "    comm = NULL,\n",
    "    initialize = function(..., comm) {\n",
    "      super$initialize(...)\n",
    "      self$comm <- comm\n",
    "      self$all_tests = testthat:::Stack$new()\n",
    "    },\n",
    "    end_test = function(context, test) {\n",
    "      out_env <- super$end_test(context, test)\n",
    "      jsonable <- lapply(out_env$as_list(), `[`, c('message', 'test'))\n",
    "      self$comm$send(jsonable)\n",
    "      out_env\n",
    "      #assign('output', out, envir=globalenv())\n",
    "      \n",
    "    }\n",
    "  ),\n",
    "  private = list(\n",
    "  )\n",
    ")"
   ]
  },
  {
   "cell_type": "code",
   "execution_count": 94,
   "metadata": {},
   "outputs": [],
   "source": [
    "reporter <- ProjectReporter$new(comm = comm)\n",
    "env = test_env()\n",
    "reporter$start_file('some name')\n",
    "with_reporter(reporter = reporter, start_end_reporter = TRUE,\n",
    "    eval(\n",
    "        {\n",
    "            test_that(\"a passing test\", {\n",
    "                expect_equal(2, 2)\n",
    "                expect_equal(3, 3)\n",
    "            })\n",
    "        \n",
    "            test_that(\"a failing test\", {\n",
    "                expect_equal(2, 3)\n",
    "                expect_equal(3, 4)\n",
    "            })\n",
    "        },\n",
    "        envir = env\n",
    "    )\n",
    ")\n"
   ]
  }
 ],
 "metadata": {
  "kernelspec": {
   "display_name": "R",
   "language": "R",
   "name": "ir"
  },
  "language_info": {
   "codemirror_mode": "r",
   "file_extension": ".r",
   "mimetype": "text/x-r-source",
   "name": "R",
   "pygments_lexer": "r",
   "version": "3.3.1"
  }
 },
 "nbformat": 4,
 "nbformat_minor": 2
}
